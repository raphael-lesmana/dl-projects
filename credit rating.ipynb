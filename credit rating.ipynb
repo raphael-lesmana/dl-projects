{
  "nbformat": 4,
  "nbformat_minor": 0,
  "metadata": {
    "colab": {
      "provenance": []
    },
    "kernelspec": {
      "name": "python3",
      "display_name": "Python 3"
    },
    "language_info": {
      "name": "python"
    }
  },
  "cells": [
    {
      "cell_type": "code",
      "execution_count": null,
      "metadata": {
        "id": "Kqe6EhH5S0H6"
      },
      "outputs": [],
      "source": [
        "import numpy as np\n",
        "import matplotlib.pyplot as plt\n",
        "import matplotlib.colors as col"
      ]
    },
    {
      "cell_type": "markdown",
      "source": [
        "## Transition Matrices"
      ],
      "metadata": {
        "id": "AXAnjJ7lTYvm"
      }
    },
    {
      "cell_type": "markdown",
      "source": [
        "Floating-point errors cause simple equality comparisons of the form $a=b$ to not work as intended with some of the calculations below. To mitigate this, the inequality $|a-b|<\\epsilon$ is evaluated instead. Here, $\\epsilon$ is chosen to be $10^{-9}$."
      ],
      "metadata": {
        "id": "uGR018nb4zrp"
      }
    },
    {
      "cell_type": "code",
      "source": [
        "ZERO = 1e-9\n",
        "def is_zero(x):\n",
        "  return np.abs(x) < ZERO"
      ],
      "metadata": {
        "id": "tm-RfP9a4FtO"
      },
      "execution_count": null,
      "outputs": []
    },
    {
      "cell_type": "markdown",
      "source": [
        "Transition matrix (before adjustments)"
      ],
      "metadata": {
        "id": "cr-OtypgK5aJ"
      }
    },
    {
      "cell_type": "code",
      "source": [
        "P_unmodified = np.array([\n",
        "    [0.8720, 0.0903, 0.0046, 0.0000, 0.0000, 0.0000, 0.0011, 0.0000, 0.0320],\n",
        "    [0.0025, 0.8661, 0.0935, 0.0050, 0.0000, 0.0000, 0.0000, 0.0000, 0.0329],\n",
        "    [0.0001, 0.0167, 0.8859, 0.0492, 0.0013, 0.0003, 0.0000, 0.0003, 0.0462],\n",
        "    [0.0000, 0.0006, 0.0380, 0.8634, 0.0306, 0.0026, 0.0009, 0.0005, 0.0635],\n",
        "    [0.0000, 0.0000, 0.0008, 0.0521, 0.7567, 0.0638, 0.0035, 0.0035, 0.1195],\n",
        "    [0.0000, 0.0000, 0.0002, 0.0018, 0.0460, 0.7415, 0.0501, 0.0179, 0.1425],\n",
        "    [0.0000, 0.0000, 0.0000, 0.0016, 0.0000, 0.1351, 0.4472, 0.2500, 0.1661],\n",
        "    [0.0000, 0.0000, 0.0000, 0.0000, 0.0000, 0.0000, 0.0000, 1.0000, 0.0000],\n",
        "    [0.0000, 0.0000, 0.0000, 0.0000, 0.0000, 0.0000, 0.0000, 0.0000, 1.0000]\n",
        "])\n",
        "np.sum(P_unmodified, axis=1)"
      ],
      "metadata": {
        "colab": {
          "base_uri": "https://localhost:8080/"
        },
        "id": "l5KzwdJCBlIG",
        "outputId": "b361a346-e782-4652-d968-6877fedfb536"
      },
      "execution_count": null,
      "outputs": [
        {
          "output_type": "execute_result",
          "data": {
            "text/plain": [
              "array([1.    , 1.    , 1.    , 1.0001, 0.9999, 1.    , 1.    , 1.    ,\n",
              "       1.    ])"
            ]
          },
          "metadata": {},
          "execution_count": 42
        }
      ]
    },
    {
      "cell_type": "markdown",
      "source": [
        "Transition matrix (after adjustments)"
      ],
      "metadata": {
        "id": "rg0KxIgFK7MU"
      }
    },
    {
      "cell_type": "code",
      "source": [
        "P = np.array([\n",
        "    [0.8720, 0.0903, 0.0046, 0.0000, 0.0000, 0.0000, 0.0011, 0.0000, 0.0320],\n",
        "    [0.0025, 0.8661, 0.0935, 0.0050, 0.0000, 0.0000, 0.0000, 0.0000, 0.0329],\n",
        "    [0.0001, 0.0167, 0.8859, 0.0492, 0.0013, 0.0003, 0.0000, 0.0003, 0.0462],\n",
        "    [0.0000, 0.0006, 0.0380, 0.8634, 0.0306, 0.0026, 0.0009, 0.0005, 0.0634], #modified\n",
        "    [0.0000, 0.0000, 0.0008, 0.0522, 0.7567, 0.0638, 0.0035, 0.0035, 0.1195], #modified\n",
        "    [0.0000, 0.0000, 0.0002, 0.0018, 0.0460, 0.7415, 0.0501, 0.0179, 0.1425],\n",
        "    [0.0000, 0.0000, 0.0000, 0.0016, 0.0000, 0.1351, 0.4472, 0.2500, 0.1661],\n",
        "    [0.0000, 0.0000, 0.0000, 0.0000, 0.0000, 0.0000, 0.0000, 1.0000, 0.0000],\n",
        "    [0.0000, 0.0000, 0.0000, 0.0000, 0.0000, 0.0000, 0.0000, 0.0000, 1.0000]\n",
        "])\n",
        "np.sum(P, axis=1)"
      ],
      "metadata": {
        "id": "rGU0Gu7nrYfa",
        "colab": {
          "base_uri": "https://localhost:8080/"
        },
        "outputId": "06f0a159-20d5-4241-f943-1ff11ffb6acb"
      },
      "execution_count": null,
      "outputs": [
        {
          "output_type": "execute_result",
          "data": {
            "text/plain": [
              "array([1., 1., 1., 1., 1., 1., 1., 1., 1.])"
            ]
          },
          "metadata": {},
          "execution_count": 43
        }
      ]
    },
    {
      "cell_type": "markdown",
      "source": [
        "Removing absorbing states\n",
        "\n",
        "Select only the rows and columns containing the non-absorbing states, and recalculate the transition matrix by scaling every entry with respect to the sum of the rows."
      ],
      "metadata": {
        "id": "ms--a_y0S4zX"
      }
    },
    {
      "cell_type": "code",
      "source": [
        "P = P[:7,:7]\n",
        "P = np.divide(P, np.sum(P, axis=1).reshape((7,1)))\n",
        "P"
      ],
      "metadata": {
        "colab": {
          "base_uri": "https://localhost:8080/"
        },
        "id": "rGomleg-8YsJ",
        "outputId": "f01f4b9d-c198-4406-edd3-2a2154510c4a"
      },
      "execution_count": null,
      "outputs": [
        {
          "output_type": "execute_result",
          "data": {
            "text/plain": [
              "array([[9.00826446e-01, 9.32851240e-02, 4.75206612e-03, 0.00000000e+00,\n",
              "        0.00000000e+00, 0.00000000e+00, 1.13636364e-03],\n",
              "       [2.58504808e-03, 8.95564057e-01, 9.66807983e-02, 5.17009616e-03,\n",
              "        0.00000000e+00, 0.00000000e+00, 0.00000000e+00],\n",
              "       [1.04876770e-04, 1.75144206e-02, 9.29103304e-01, 5.15993707e-02,\n",
              "        1.36339801e-03, 3.14630309e-04, 0.00000000e+00],\n",
              "       [0.00000000e+00, 6.40957163e-04, 4.05939536e-02, 9.22337357e-01,\n",
              "        3.26888153e-02, 2.77748104e-03, 9.61435744e-04],\n",
              "       [0.00000000e+00, 0.00000000e+00, 9.12200684e-04, 5.95210946e-02,\n",
              "        8.62827822e-01, 7.27480046e-02, 3.99087799e-03],\n",
              "       [0.00000000e+00, 0.00000000e+00, 2.38208671e-04, 2.14387804e-03,\n",
              "        5.47879943e-02, 8.83158647e-01, 5.96712720e-02],\n",
              "       [0.00000000e+00, 0.00000000e+00, 0.00000000e+00, 2.74019524e-03,\n",
              "        0.00000000e+00, 2.31375235e-01, 7.65884569e-01]])"
            ]
          },
          "metadata": {},
          "execution_count": 44
        }
      ]
    },
    {
      "cell_type": "markdown",
      "source": [
        "Check if $P$ is primitive\n",
        "\n",
        "An $n\\times n$ matrix $P$ is primitive if and only if there is some natural number $k$ such that $P^k >0$. Wielandt's upper limit for $k$ is given as $(n-1)^2 + 1$. Instead of testing every number from 1 to $(n-1)^2 + 1$, it is faster to instead every power of two until the smallest one that is greater than $(n-1)^2 + 1$. This only takes $O(\\log{n})$ matrix multiplications, instead of $O(n^2)$ matrix multiplications. Given the complexity of naive matrix multiplication as $O(n^3)$, the overall complexity of this checking operation is $O(n^3\\log{n})$."
      ],
      "metadata": {
        "id": "E30QXx9eiHCj"
      }
    },
    {
      "cell_type": "code",
      "source": [
        "n = P.shape[0]\n",
        "M = (n-1)**2 + 1\n",
        "i = 1\n",
        "while i < M:\n",
        "  curpow = np.linalg.matrix_power(P, i)\n",
        "  print(\"====================\")\n",
        "  print(curpow)\n",
        "  if np.all(curpow > ZERO):\n",
        "    print(f\"P^{i} contains all positive elements\")\n",
        "    break\n",
        "  i *= 2\n",
        "else:\n",
        "  print(\"P is not a primitive matrix\")\n"
      ],
      "metadata": {
        "colab": {
          "base_uri": "https://localhost:8080/"
        },
        "id": "yK97Fl-1iK3N",
        "outputId": "6b6c02e4-6034-46d1-de90-71c7ddca9c05"
      },
      "execution_count": null,
      "outputs": [
        {
          "output_type": "stream",
          "name": "stdout",
          "text": [
            "====================\n",
            "[[9.00826446e-01 9.32851240e-02 4.75206612e-03 0.00000000e+00\n",
            "  0.00000000e+00 0.00000000e+00 1.13636364e-03]\n",
            " [2.58504808e-03 8.95564057e-01 9.66807983e-02 5.17009616e-03\n",
            "  0.00000000e+00 0.00000000e+00 0.00000000e+00]\n",
            " [1.04876770e-04 1.75144206e-02 9.29103304e-01 5.15993707e-02\n",
            "  1.36339801e-03 3.14630309e-04 0.00000000e+00]\n",
            " [0.00000000e+00 6.40957163e-04 4.05939536e-02 9.22337357e-01\n",
            "  3.26888153e-02 2.77748104e-03 9.61435744e-04]\n",
            " [0.00000000e+00 0.00000000e+00 9.12200684e-04 5.95210946e-02\n",
            "  8.62827822e-01 7.27480046e-02 3.99087799e-03]\n",
            " [0.00000000e+00 0.00000000e+00 2.38208671e-04 2.14387804e-03\n",
            "  5.47879943e-02 8.83158647e-01 5.96712720e-02]\n",
            " [0.00000000e+00 0.00000000e+00 0.00000000e+00 2.74019524e-03\n",
            "  0.00000000e+00 2.31375235e-01 7.65884569e-01]]\n",
            "====================\n",
            "[[8.11729931e-01 1.67659741e-01 1.77148274e-02 7.30610541e-04\n",
            "  6.47895747e-06 2.64421548e-04 1.89398979e-03]\n",
            " [4.65389540e-03 8.03972750e-01 1.76632456e-01 1.43873935e-02\n",
            "  3.00818726e-04 4.47785535e-05 7.90826989e-06]\n",
            " [2.37192740e-04 3.20008480e-02 8.67022696e-01 9.57055498e-02\n",
            "  4.14707559e-03 8.12693296e-04 7.39442034e-05]\n",
            " [5.91426781e-06 1.87617651e-03 7.52497450e-02 8.54758400e-01\n",
            "  5.85624532e-02 7.62800151e-03 1.91930980e-03]\n",
            " [9.56686612e-08 5.41271384e-05 4.06812656e-03 1.06468953e-01\n",
            "  7.50404486e-01 1.28106028e-01 1.08981841e-02]\n",
            " [2.49825559e-08 5.54622082e-06 5.68702642e-04 7.30760698e-03\n",
            "  9.57295023e-02 7.97767397e-01 9.86212198e-02]\n",
            " [0.00000000e+00 1.75634777e-06 1.66350946e-04 5.12209797e-03\n",
            "  1.27661588e-02 3.81555373e-01 6.00388263e-01]]\n",
            "====================\n",
            "[[6.59689958e-01 2.71456558e-01 5.94084349e-02 5.33747119e-03\n",
            "  2.26299184e-04 1.17655513e-03 2.70472370e-03]\n",
            " [7.56129232e-03 6.52831851e-01 2.96318371e-01 4.08053198e-02\n",
            "  2.04707272e-03 3.67803404e-04 6.82898013e-05]\n",
            " [5.47682981e-04 5.36928285e-02 7.64604110e-01 1.65692441e-01\n",
            "  1.24007153e-02 2.64398069e-03 4.18241844e-04]\n",
            " [3.64420739e-05 5.52433515e-03 1.30137984e-01 7.44141394e-01\n",
            "  9.50696341e-02 2.09012360e-02 4.18897479e-03]\n",
            " [1.99916575e-06 4.14817725e-04 1.46758895e-02 1.72282103e-01\n",
            "  5.81761516e-01 2.03303865e-01 2.75598091e-02]\n",
            " [2.53290485e-07 4.61518976e-05 1.90349163e-03 2.28278843e-02\n",
            "  1.49895049e-01 6.86382007e-01 1.38945162e-01]\n",
            " [8.86781044e-08 2.02070635e-05 8.98777894e-04 1.16168060e-02\n",
            "  5.40711938e-02 5.35148433e-01 3.98244493e-01]]\n",
            "P^4 contains all positive elements\n"
          ]
        }
      ]
    },
    {
      "cell_type": "markdown",
      "source": [
        "$P$ is therefore a primitive matrix."
      ],
      "metadata": {
        "id": "eCuJfs3YkjVq"
      }
    },
    {
      "cell_type": "markdown",
      "source": [
        "## Steady State Distribution"
      ],
      "metadata": {
        "id": "WZmM0S1DRjW8"
      }
    },
    {
      "cell_type": "markdown",
      "source": [
        "The function below constructs the equation matrix\n",
        "$$A  =\\begin{bmatrix}\n",
        "p_{11}-1&p_{21}&\\dots&p_{m1}\\\\\n",
        "p_{12}&p_{22}-1&\\dots&p_{m2}\\\\\n",
        "\\vdots&\\vdots&\\ddots&\\vdots\\\\\n",
        "p_{1m}&p_{2m}&\\dots&p_{mm}-1\\\\\n",
        "1&1&\\dots&1\n",
        "\\end{bmatrix}$$\n",
        "\n",
        "The row vector $\\mathbf{1}^\\mathrm{T}$ is appended to the transition matrix and the elements of the main diagonal are subtracted by 1."
      ],
      "metadata": {
        "id": "vu42FVOWMlca"
      }
    },
    {
      "cell_type": "code",
      "source": [
        "def generate_equation_matrix(P):\n",
        "  P_t = P.T\n",
        "  A = np.ones((P_t.shape[0] + 1, P_t.shape[1]))\n",
        "  for i, r in enumerate(P_t):\n",
        "    for j, x in enumerate(r):\n",
        "      if i == j:\n",
        "        A[i,j] = x - 1\n",
        "      else:\n",
        "        A[i,j] = x\n",
        "  return A"
      ],
      "metadata": {
        "id": "RfdQPvvOLjzg"
      },
      "execution_count": null,
      "outputs": []
    },
    {
      "cell_type": "markdown",
      "source": [
        "The function below performs Gaussian elimination:\n",
        "1. Find the leading coefficient of $R_i$\n",
        "2. If $R_i$ has no leading coefficient, then move to $R_{i+1}$\n",
        "3. Divide $R_i$ by its leading coefficient, making the leading coefficent 1\n",
        "4. Eliminate all of the cells below the leading coefficient\n",
        "5. Move to $R_{i+1}$\n",
        "\n",
        "The leading coefficient is the first non-zero element of the row. This check is done using the `is_zero` function as floating-point errors result in equality comparisons not working as intended some of the time."
      ],
      "metadata": {
        "id": "Pwr07vcOTQNw"
      }
    },
    {
      "cell_type": "code",
      "source": [
        "def gaussian_elimination(A):\n",
        "  A_out = A.copy()\n",
        "  for i in range(A_out.shape[0]):\n",
        "    leading_coef = np.where(~is_zero(A_out[i]))[0]\n",
        "\n",
        "    if len(leading_coef) > 0:\n",
        "      leading_coef = leading_coef[0]\n",
        "      A_out[i] = A_out[i] / A_out[i, leading_coef]\n",
        "    else:\n",
        "      continue\n",
        "\n",
        "    for j in range(i + 1, A_out.shape[0]):\n",
        "      A_out[j] = A_out[j] - (A_out[j, leading_coef]/A_out[i, leading_coef]) * A_out[i]\n",
        "\n",
        "  return A_out"
      ],
      "metadata": {
        "id": "cHjvyHuRuN2M"
      },
      "execution_count": null,
      "outputs": []
    },
    {
      "cell_type": "markdown",
      "source": [
        "Construct the equation matrix and identify the linearly dependent row\n",
        "\n",
        "The linearly dependent row will have all of its elements as 0. This check is performed with the `is_zero` function."
      ],
      "metadata": {
        "id": "T4TGcw92Z4jA"
      }
    },
    {
      "cell_type": "code",
      "source": [
        "n = P.shape[0]\n",
        "A = generate_equation_matrix(P)"
      ],
      "metadata": {
        "id": "Mgo50-ImzjIc"
      },
      "execution_count": null,
      "outputs": []
    },
    {
      "cell_type": "code",
      "source": [
        "is_zero(gaussian_elimination(A))"
      ],
      "metadata": {
        "colab": {
          "base_uri": "https://localhost:8080/"
        },
        "id": "Y29YbCfpl5oE",
        "outputId": "fa5df03d-f740-46d4-e5af-6a61673e0a46"
      },
      "execution_count": null,
      "outputs": [
        {
          "output_type": "execute_result",
          "data": {
            "text/plain": [
              "array([[False, False, False,  True,  True,  True,  True],\n",
              "       [ True, False, False, False,  True,  True,  True],\n",
              "       [ True,  True, False, False, False, False,  True],\n",
              "       [ True,  True,  True, False, False, False, False],\n",
              "       [ True,  True,  True,  True, False, False, False],\n",
              "       [ True,  True,  True,  True,  True, False, False],\n",
              "       [ True,  True,  True,  True,  True,  True,  True],\n",
              "       [ True,  True,  True,  True,  True,  True, False]])"
            ]
          },
          "metadata": {},
          "execution_count": 51
        }
      ]
    },
    {
      "cell_type": "markdown",
      "source": [
        "Remove the linearly dependent row."
      ],
      "metadata": {
        "id": "6DgYv0u8Z8PT"
      }
    },
    {
      "cell_type": "code",
      "source": [
        "skip = np.where(np.all(is_zero(gaussian_elimination(A)), axis=1))[0][0]\n",
        "A = np.delete(A, skip, 0)"
      ],
      "metadata": {
        "id": "5f5P3UcKzx7q"
      },
      "execution_count": null,
      "outputs": []
    },
    {
      "cell_type": "markdown",
      "source": [
        "Create the constant vector\n",
        "$$b=\\begin{bmatrix}\n",
        "\\vec{0}\\\\1\n",
        "\\end{bmatrix}$$"
      ],
      "metadata": {
        "id": "LYzKt1Z2Z97n"
      }
    },
    {
      "cell_type": "code",
      "source": [
        "b = np.zeros(n)\n",
        "b[n - 1] = 1\n",
        "b = b.reshape((n, 1))"
      ],
      "metadata": {
        "id": "zAe99Cju0Tne"
      },
      "execution_count": null,
      "outputs": []
    },
    {
      "cell_type": "markdown",
      "source": [
        "Solve for $\\mathbf{x}$ by computing\n",
        "$$\\mathbf{x}^\\mathrm{T}=A^{-1}\\mathbf{b}$$"
      ],
      "metadata": {
        "id": "5BVUdbHdB6yS"
      }
    },
    {
      "cell_type": "code",
      "source": [
        "steady_state = (np.linalg.inv(A) @ b).reshape((n, ))\n",
        "steady_state"
      ],
      "metadata": {
        "colab": {
          "base_uri": "https://localhost:8080/"
        },
        "id": "lOW-olkX0W_F",
        "outputId": "367c6ba4-c670-4e51-9634-af9aa24ad41a"
      },
      "execution_count": null,
      "outputs": [
        {
          "output_type": "execute_result",
          "data": {
            "text/plain": [
              "array([0.00125242, 0.03924182, 0.21705957, 0.28044268, 0.16292748,\n",
              "       0.23519459, 0.06388146])"
            ]
          },
          "metadata": {},
          "execution_count": 58
        }
      ]
    },
    {
      "cell_type": "markdown",
      "source": [
        "Limit comparison\n",
        "\n",
        "Compare the solution of the system of equations above with the solution obtained by simulating a Markov process running for 400 timesteps."
      ],
      "metadata": {
        "id": "eojGa5nqYKVS"
      }
    },
    {
      "cell_type": "code",
      "source": [
        "Y = 400\n",
        "RATINGS = [\n",
        "    'AAA',\n",
        "    'AA',\n",
        "    'A',\n",
        "    'BBB',\n",
        "    'BB',\n",
        "    'B',\n",
        "    'CCC/C'\n",
        "]"
      ],
      "metadata": {
        "id": "wB5otYLIYMUr"
      },
      "execution_count": null,
      "outputs": []
    },
    {
      "cell_type": "markdown",
      "source": [
        "$\\mathbf{\\tau}$ is an arbitrary state vector"
      ],
      "metadata": {
        "id": "rzQMToBjYTdy"
      }
    },
    {
      "cell_type": "code",
      "source": [
        "tau = np.zeros(m)\n",
        "tau[0] = 1"
      ],
      "metadata": {
        "id": "xstdgfeZYXsQ"
      },
      "execution_count": null,
      "outputs": []
    },
    {
      "cell_type": "code",
      "source": [
        "limit_vectors = np.zeros((Y, m))\n",
        "for i in range(1, Y + 1):\n",
        "  limit_vectors[i - 1] = tau @ np.linalg.matrix_power(P, i)\n",
        "fig, ax = plt.subplots(figsize=(10,5))\n",
        "ax.plot(np.linspace(1, Y, num=Y), limit_vectors)\n",
        "ax.hlines(steady_state, 1, Y, color=\"black\")\n",
        "ax.legend(RATINGS)"
      ],
      "metadata": {
        "colab": {
          "base_uri": "https://localhost:8080/",
          "height": 483
        },
        "id": "KPMlP_4mZCI1",
        "outputId": "77661dd4-f2d6-43c9-990c-5b7850423088"
      },
      "execution_count": null,
      "outputs": [
        {
          "output_type": "execute_result",
          "data": {
            "text/plain": [
              "<matplotlib.legend.Legend at 0x7e4692a752d0>"
            ]
          },
          "metadata": {},
          "execution_count": 170
        },
        {
          "output_type": "display_data",
          "data": {
            "text/plain": [
              "<Figure size 1000x500 with 1 Axes>"
            ],
            "image/png": "[encoded data removed]"
          },
          "metadata": {}
        }
      ]
    },
    {
      "cell_type": "markdown",
      "source": [
        "## State Distribution Evolution"
      ],
      "metadata": {
        "id": "aOO1tz8WCFwv"
      }
    },
    {
      "cell_type": "code",
      "source": [
        "YEARS = 20"
      ],
      "metadata": {
        "id": "H8HoXcuqTrxG"
      },
      "execution_count": null,
      "outputs": []
    },
    {
      "cell_type": "markdown",
      "source": [
        "Sika AG is rated A by S&P."
      ],
      "metadata": {
        "id": "C-9iEY0XDvBc"
      }
    },
    {
      "cell_type": "code",
      "source": [
        "m = P.shape[0]\n",
        "sika_state = np.zeros(m)\n",
        "sika_state[2] = 1\n",
        "sika_state"
      ],
      "metadata": {
        "colab": {
          "base_uri": "https://localhost:8080/"
        },
        "id": "T6l4AVIyD5QQ",
        "outputId": "c860e0a2-6ed9-4e40-e50e-f175b5f3d70a"
      },
      "execution_count": null,
      "outputs": [
        {
          "output_type": "execute_result",
          "data": {
            "text/plain": [
              "array([0., 0., 1., 0., 0., 0., 0.])"
            ]
          },
          "metadata": {},
          "execution_count": 172
        }
      ]
    },
    {
      "cell_type": "markdown",
      "source": [
        "Plot the evolution of Sika AG's rating distribution"
      ],
      "metadata": {
        "id": "F3FQnUhnFIMp"
      }
    },
    {
      "cell_type": "code",
      "source": [
        "sika_evolution = np.zeros((YEARS, m))\n",
        "for i in range(1, YEARS + 1):\n",
        "  sika_evolution[i - 1] = sika_state @ np.linalg.matrix_power(P, i)\n",
        "fig, ax = plt.subplots()\n",
        "ax.set_title(\"Sika AG\")\n",
        "ax.plot(np.linspace(1, YEARS, num=YEARS), sika_evolution, marker='x')\n",
        "ax.legend(RATINGS)"
      ],
      "metadata": {
        "colab": {
          "base_uri": "https://localhost:8080/",
          "height": 490
        },
        "id": "HG0mKiK4FHgt",
        "outputId": "da8278af-2b0c-4861-91cd-92a11412be3b"
      },
      "execution_count": null,
      "outputs": [
        {
          "output_type": "execute_result",
          "data": {
            "text/plain": [
              "<matplotlib.legend.Legend at 0x7e4692a758a0>"
            ]
          },
          "metadata": {},
          "execution_count": 183
        },
        {
          "output_type": "display_data",
          "data": {
            "text/plain": [
              "<Figure size 640x480 with 1 Axes>"
            ],
            "image/png": "[encoded data removed]"
          },
          "metadata": {}
        }
      ]
    },
    {
      "cell_type": "code",
      "source": [
        "sika_evolution[4]"
      ],
      "metadata": {
        "colab": {
          "base_uri": "https://localhost:8080/"
        },
        "id": "dVPMgErqsmnS",
        "outputId": "fc57b0c4-c0bd-4026-f248-31a04dc1e632"
      },
      "execution_count": null,
      "outputs": [
        {
          "output_type": "execute_result",
          "data": {
            "text/plain": [
              "array([7.12355066e-04, 6.16342577e-02, 7.22327926e-01, 1.93299935e-01,\n",
              "       1.73032899e-02, 4.03472774e-03, 6.87509409e-04])"
            ]
          },
          "metadata": {},
          "execution_count": 174
        }
      ]
    },
    {
      "cell_type": "code",
      "source": [
        "np.sum(sika_evolution[4,:2]) * 100"
      ],
      "metadata": {
        "colab": {
          "base_uri": "https://localhost:8080/"
        },
        "id": "3q3dLTM9n2hW",
        "outputId": "d6069e91-557c-485a-b6a7-fa2a51007ac9"
      },
      "execution_count": null,
      "outputs": [
        {
          "output_type": "execute_result",
          "data": {
            "text/plain": [
              "6.234661278862992"
            ]
          },
          "metadata": {},
          "execution_count": 175
        }
      ]
    },
    {
      "cell_type": "code",
      "source": [
        "np.sum(sika_evolution[4,4:]) * 100"
      ],
      "metadata": {
        "colab": {
          "base_uri": "https://localhost:8080/"
        },
        "id": "A0Q3ZcoRo0D6",
        "outputId": "c63cbe34-209b-4d13-f993-3e7f4c9c84d4"
      },
      "execution_count": null,
      "outputs": [
        {
          "output_type": "execute_result",
          "data": {
            "text/plain": [
              "2.202552700298486"
            ]
          },
          "metadata": {},
          "execution_count": 176
        }
      ]
    },
    {
      "cell_type": "code",
      "source": [
        "np.sum(sika_evolution[4,3:]) * 100"
      ],
      "metadata": {
        "id": "L_qgYzRMQUdu",
        "outputId": "36d4bd37-65a2-42f5-f6c6-ca3a35d11374",
        "colab": {
          "base_uri": "https://localhost:8080/"
        }
      },
      "execution_count": null,
      "outputs": [
        {
          "output_type": "execute_result",
          "data": {
            "text/plain": [
              "21.532546160855624"
            ]
          },
          "metadata": {},
          "execution_count": 188
        }
      ]
    },
    {
      "cell_type": "markdown",
      "source": [
        "AkzoNobel diberikan rating BBB oleh S&P, make vektor *state* awalnya adalah"
      ],
      "metadata": {
        "id": "k3XOvkPXNEB2"
      }
    },
    {
      "cell_type": "code",
      "source": [
        "m = P.shape[0]\n",
        "akzo_state = np.zeros(m)\n",
        "akzo_state[3] = 1\n",
        "akzo_state"
      ],
      "metadata": {
        "colab": {
          "base_uri": "https://localhost:8080/"
        },
        "id": "ebi1d_J8NKi1",
        "outputId": "820b125d-186b-4f17-b2de-7b5901c612f1"
      },
      "execution_count": null,
      "outputs": [
        {
          "output_type": "execute_result",
          "data": {
            "text/plain": [
              "array([0., 0., 0., 1., 0., 0., 0.])"
            ]
          },
          "metadata": {},
          "execution_count": 177
        }
      ]
    },
    {
      "cell_type": "code",
      "source": [
        "akzo_evolution = np.zeros((YEARS, m))\n",
        "for i in range(1, YEARS + 1):\n",
        "  akzo_evolution[i - 1] = akzo_state @ np.linalg.matrix_power(P, i)\n",
        "fig, ax = plt.subplots()\n",
        "ax.set_title(\"AkzoNobel\")\n",
        "ax.plot(np.linspace(1, YEARS, num=YEARS), akzo_evolution, marker='x')\n",
        "ax.legend(RATINGS)"
      ],
      "metadata": {
        "colab": {
          "base_uri": "https://localhost:8080/",
          "height": 490
        },
        "id": "CcFHVjHYNP-a",
        "outputId": "d536d951-f024-4cf9-cf4f-75c8cabc5426"
      },
      "execution_count": null,
      "outputs": [
        {
          "output_type": "execute_result",
          "data": {
            "text/plain": [
              "<matplotlib.legend.Legend at 0x7e4693370730>"
            ]
          },
          "metadata": {},
          "execution_count": 184
        },
        {
          "output_type": "display_data",
          "data": {
            "text/plain": [
              "<Figure size 640x480 with 1 Axes>"
            ],
            "image/png": "[encoded data removed]"
          },
          "metadata": {}
        }
      ]
    },
    {
      "cell_type": "code",
      "source": [
        "akzo_evolution[4]"
      ],
      "metadata": {
        "colab": {
          "base_uri": "https://localhost:8080/"
        },
        "id": "MkhyiJHHARha",
        "outputId": "c1234a3e-1f62-4448-aba6-0fca89874a9d"
      },
      "execution_count": null,
      "outputs": [
        {
          "output_type": "execute_result",
          "data": {
            "text/plain": [
              "array([6.07571072e-05, 7.70704963e-03, 1.51745244e-01, 6.98807943e-01,\n",
              "       1.07676393e-01, 2.84522425e-02, 5.55037135e-03])"
            ]
          },
          "metadata": {},
          "execution_count": 182
        }
      ]
    },
    {
      "cell_type": "code",
      "source": [
        "np.sum(akzo_evolution[4,:3]) * 100"
      ],
      "metadata": {
        "colab": {
          "base_uri": "https://localhost:8080/"
        },
        "id": "u3ZEhlN7olRT",
        "outputId": "62cf3e69-db4a-4894-ef7a-97863a983ded"
      },
      "execution_count": null,
      "outputs": [
        {
          "output_type": "execute_result",
          "data": {
            "text/plain": [
              "15.95130502741422"
            ]
          },
          "metadata": {},
          "execution_count": 179
        }
      ]
    },
    {
      "cell_type": "code",
      "source": [
        "np.sum(akzo_evolution[4,5:]) * 100"
      ],
      "metadata": {
        "colab": {
          "base_uri": "https://localhost:8080/"
        },
        "id": "Xk9ykeV6oqoR",
        "outputId": "324fb11d-ef82-4a89-be75-f5a7dad3a1d6"
      },
      "execution_count": null,
      "outputs": [
        {
          "output_type": "execute_result",
          "data": {
            "text/plain": [
              "3.4002613846328313"
            ]
          },
          "metadata": {},
          "execution_count": 185
        }
      ]
    },
    {
      "cell_type": "code",
      "source": [
        "np.sum(akzo_evolution[4,4:]) * 100"
      ],
      "metadata": {
        "colab": {
          "base_uri": "https://localhost:8080/"
        },
        "id": "LyKiLQNwQRPJ",
        "outputId": "0ed84979-1106-484f-e91a-5777e6dccb36"
      },
      "execution_count": null,
      "outputs": [
        {
          "output_type": "execute_result",
          "data": {
            "text/plain": [
              "14.167900643408974"
            ]
          },
          "metadata": {},
          "execution_count": 187
        }
      ]
    },
    {
      "cell_type": "markdown",
      "source": [
        "## Simulation"
      ],
      "metadata": {
        "id": "Bfb3F60JHgAe"
      }
    },
    {
      "cell_type": "markdown",
      "source": [
        "Simulates a Markov chain given:\n",
        "* `P`: The transition state\n",
        "* `s`: The index of the starting state\n",
        "* `n`: The number of timesteps to perform the Markov chain\n",
        "* `N`: The number of times to repeat the Markov chain"
      ],
      "metadata": {
        "id": "si7WXi74-qlt"
      }
    },
    {
      "cell_type": "code",
      "source": [
        "def simulate(P, s, n, N):\n",
        "  count = np.zeros(P.shape[0])\n",
        "  P_c = np.cumsum(P, axis=1)\n",
        "  s_0 = s\n",
        "  for i in range(N):\n",
        "    s = s_0\n",
        "    r = np.random.random_sample(n)\n",
        "    for j in r:\n",
        "      for pi, p in enumerate(P_c[s,:]):\n",
        "        if j < p:\n",
        "          s = pi\n",
        "          break\n",
        "    count[s] += 1\n",
        "  dist = count / np.sum(count)\n",
        "  return dist"
      ],
      "metadata": {
        "id": "2bruyVJwHiZE"
      },
      "execution_count": null,
      "outputs": []
    },
    {
      "cell_type": "code",
      "source": [
        "simulate(P, 2, 5, 9000000)"
      ],
      "metadata": {
        "colab": {
          "base_uri": "https://localhost:8080/"
        },
        "id": "4jfIx-t_JMN7",
        "outputId": "9aa01b79-2974-4d9d-8a5e-c1d424707ecc"
      },
      "execution_count": null,
      "outputs": [
        {
          "output_type": "execute_result",
          "data": {
            "text/plain": [
              "array([7.05000000e-04, 6.16158889e-02, 7.22651556e-01, 1.93082000e-01,\n",
              "       1.72467778e-02, 4.02555556e-03, 6.73222222e-04])"
            ]
          },
          "metadata": {},
          "execution_count": 56
        }
      ]
    },
    {
      "cell_type": "code",
      "source": [
        "simulate(P, 3, 5, 9000000)"
      ],
      "metadata": {
        "colab": {
          "base_uri": "https://localhost:8080/"
        },
        "id": "gHCSV4YrJPvc",
        "outputId": "2fa67ca4-0393-41be-efa7-0c8189e589e5"
      },
      "execution_count": null,
      "outputs": [
        {
          "output_type": "execute_result",
          "data": {
            "text/plain": [
              "array([5.96666667e-05, 7.71411111e-03, 1.51878556e-01, 6.98600778e-01,\n",
              "       1.07730889e-01, 2.84921111e-02, 5.52388889e-03])"
            ]
          },
          "metadata": {},
          "execution_count": 57
        }
      ]
    }
  ]
}